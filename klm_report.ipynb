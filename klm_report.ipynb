{
 "cells": [
  {
   "cell_type": "markdown",
   "id": "endangered-spray",
   "metadata": {},
   "source": [
    "# 6.4: KLM Report"
   ]
  },
  {
   "cell_type": "markdown",
   "id": "blond-founder",
   "metadata": {},
   "source": [
    "The calculation and description of the task completion times for the 4 Tasks as well as the visualizations have been done by Michael Meckl. The experiment design and it's implementation have been done by Johannes Lorper."
   ]
  },
  {
   "cell_type": "markdown",
   "id": "accepted-killer",
   "metadata": {},
   "source": [
    "## Part 1: Estimate task completion time for tasks"
   ]
  },
  {
   "cell_type": "markdown",
   "id": "essential-harvey",
   "metadata": {},
   "source": [
    "### Tasks:\n",
    "\n",
    "* Task 1: adding the numbers from 1 to 20 using only the mouse\n",
    "\n",
    "* Task 2: adding the numbers from 1 to 20 using only the keyboard\n",
    "\n",
    "* Task 3: calculating the result of (3² + 4²) ∗ 15.2 using only the mouse\n",
    "\n",
    "* Task 4: calculating the result of (3² + 4²) ∗ 15.2 using only the keyboard\n",
    "\n",
    "###### Assumptions for the tasks above:\n",
    "The calculator is already opened and focused and the user's hand is already on the correct input device for the first action (either mouse or keyboard)"
   ]
  },
  {
   "cell_type": "code",
   "execution_count": 1,
   "id": "elder-nation",
   "metadata": {},
   "outputs": [],
   "source": [
    "# %load_ext pycodestyle_magic\n",
    "# %pycodestyle_on"
   ]
  },
  {
   "cell_type": "code",
   "execution_count": 2,
   "id": "imposed-helena",
   "metadata": {},
   "outputs": [],
   "source": [
    "# import the klm calculator\n",
    "from klm import calculate_klm"
   ]
  },
  {
   "cell_type": "code",
   "execution_count": 3,
   "id": "occasional-bleeding",
   "metadata": {},
   "outputs": [],
   "source": [
    "# specify the files with klm operators for each task\n",
    "\n",
    "file_task1 = \"./klm_tasks/task1.txt\"\n",
    "file_task2 = \"./klm_tasks/task2.txt\"\n",
    "file_task3 = \"./klm_tasks/task3.txt\"\n",
    "file_task4 = \"./klm_tasks/task4.txt\""
   ]
  },
  {
   "cell_type": "code",
   "execution_count": 4,
   "id": "generous-polymer",
   "metadata": {},
   "outputs": [
    {
     "name": "stdout",
     "output_type": "stream",
     "text": [
      "\n",
      "Predicted task completion time for task 0:\n",
      "Input operators were: PBBPBB16P32BPBBPBBPBB30P60B\n",
      "Predicted task completion time for the given operators using custom klm values: 44.064 seconds.\n",
      "Predicted task completion time for the given operators using default klm values: 66.300 seconds.\n",
      "\n",
      "Predicted task completion time for task 1:\n",
      "Input operators were: 18K27KKKKK\n",
      "Predicted task completion time for the given operators using custom klm values: 10.584 seconds.\n",
      "Predicted task completion time for the given operators using default klm values: 9.800 seconds.\n",
      "\n",
      "Predicted task completion time for task 2:\n",
      "Input operators were: PBB7P14BPBB5P10BPBB\n",
      "Predicted task completion time for the given operators using custom klm values: 12.960 seconds.\n",
      "Predicted task completion time for the given operators using default klm values: 19.500 seconds.\n",
      "\n",
      "Predicted task completion time for task 3:\n",
      "Input operators were: 2K4KK4K2K6K2K\n",
      "Predicted task completion time for the given operators using custom klm values: 4.536 seconds.\n",
      "Predicted task completion time for the given operators using default klm values: 4.200 seconds.\n"
     ]
    }
   ],
   "source": [
    "# and calculate their task completion times with the imported function\n",
    "task_completion_times = dict()\n",
    "\n",
    "for task_number, task_file in enumerate([file_task1, file_task2, file_task3, file_task4], start=0):\n",
    "    print(f\"\\nPredicted task completion time for task {task_number}:\")\n",
    "    times = calculate_klm(task_file)\n",
    "    task_completion_times[task_number] = times"
   ]
  },
  {
   "cell_type": "markdown",
   "id": "textile-minister",
   "metadata": {},
   "source": [
    "## Part 2: KLM Experiment"
   ]
  },
  {
   "cell_type": "markdown",
   "id": "digital-playlist",
   "metadata": {},
   "source": [
    "### Goal\n",
    "\n",
    "The goal of this study was to compare actual task completions times from participants with the task completion times based on the KLM-Model and the operators fro Card et al. [1] and Kieras [2]. Therefore, we designed 4 tasks which the user had to complete and logged the times he needed. We also calculated the task time the klm-model expected by using its default klm-values and our own klm-values (which we retrieved from another test), for the given tasks.\n",
    "\n",
    "\n",
    "### Experiment Design\n",
    "\n",
    "We used a within-subjects design with four conditions/tasks. The tasks were counterbalanced for each participant with a balanced latin square to migitate learning effects.\n",
    "\n",
    "The participant was asked to only use 1 hand during the whole experiment so that he couldn't perform some tasks with keyboard and mouse at the same time. At the beginning, the user was shown the task instruction on the screen. He could take all the time he needed to understand the task. Below the instruction was a \"start\"-button. As soon as the user clicked on the button, the trial for the first task started. The user was presented with a calculator on which he could perform the given task. If the user made a mistake he could restart the task by pressing the \"Clear\"-button. After clicking on the \"=\"-button or pressing enter on his keyboard, the task was finished and the next task instruction was displayed, if there was another task for the current participant.\n",
    "\n",
    "The 4 tasks where:\n",
    "\n",
    "- adding the numbers from 1 to 20 using only the mouse\n",
    "- adding the numbers from 1 to 20 using only the keyboard\n",
    "- calculating the result of (3*3 + 4*4) ∗ 15.2 using only the mouse.\n",
    "- calculating the result of (3*3 + 4*4) ∗ 15.2 using only the keyboard.\n",
    "\n",
    "We logged the values `[timeStamp,eventType,isMouse,klmId,argument]` of the following events:\n",
    "- Input events:\n",
    "    - mouseMove: every time the mouse was moved over a new button\n",
    "    - mouseClick: every time the user clicked on a button with his mouse\n",
    "    - keystroke: all keystrokes that were allowed in the calculator\n",
    "- Task events (isMouse, klmId were empty, argument was the current task-identifier):\n",
    "    - task_started: when the participant pressed the \"start\"-button\n",
    "    - task_restarted: when  the participant clicked the \"clear\"-button\n",
    "    - task_finished: when the participant clicked the \"=\"-button or pressed enter on his keyboard\n",
    "\n",
    "\n",
    "\n",
    "Our dependent variable was the time, which the user needed to fullfill the task which was calculated with the timestamps of the logged events. Our independent variables were the tasks the participant had to perform. As stated above the user was told to only use 1 hand so we could control that he wouldn't use 1 or both hands\" for some tasks which would have confounded the results. As another control variable we instructed the user to only use a mouse and not a touchpad for all the pointing tasks so our results would be comparable.\n",
    "\n",
    "### Limitations\n",
    "A possible confounding variable that we didn't control for was the fact that the task description was not shown during the task, so the participant had to remember it.\n",
    "\n",
    "\n",
    "[1] Card, S. K., Moran, T. P., & Newell, A. (1980). The keystroke-level model for user performance time with interactive systems. Communications of the ACM, 23(7), 396-410.\n",
    "\n",
    "[2] Kieras, D. (2001). Using the keystroke-level model to estimate execution times. University of Michigan, 555."
   ]
  },
  {
   "cell_type": "markdown",
   "id": "tough-support",
   "metadata": {},
   "source": [
    "### Participants\n",
    "The study was conducted by 8 participants ranging in age from 22 to 27 years (m = 24,5, sd = 2,5). All participants were male and studied media informatics at the University of Regensburg."
   ]
  },
  {
   "cell_type": "markdown",
   "id": "infectious-premises",
   "metadata": {},
   "source": [
    "## Pre-processing"
   ]
  },
  {
   "cell_type": "code",
   "execution_count": 5,
   "id": "lucky-shift",
   "metadata": {},
   "outputs": [],
   "source": [
    "import numpy as np\n",
    "import pandas as pd\n",
    "import seaborn as sns\n",
    "from matplotlib import pyplot as plt\n",
    "from collections import defaultdict"
   ]
  },
  {
   "cell_type": "code",
   "execution_count": 6,
   "id": "crude-ferry",
   "metadata": {},
   "outputs": [
    {
     "data": {
      "text/html": [
       "<div>\n",
       "<style scoped>\n",
       "    .dataframe tbody tr th:only-of-type {\n",
       "        vertical-align: middle;\n",
       "    }\n",
       "\n",
       "    .dataframe tbody tr th {\n",
       "        vertical-align: top;\n",
       "    }\n",
       "\n",
       "    .dataframe thead th {\n",
       "        text-align: right;\n",
       "    }\n",
       "</style>\n",
       "<table border=\"1\" class=\"dataframe\">\n",
       "  <thead>\n",
       "    <tr style=\"text-align: right;\">\n",
       "      <th></th>\n",
       "      <th>task_id</th>\n",
       "      <th>task_time_default_in_s</th>\n",
       "      <th>task_time_custom_in_s</th>\n",
       "    </tr>\n",
       "  </thead>\n",
       "  <tbody>\n",
       "    <tr>\n",
       "      <th>0</th>\n",
       "      <td>0</td>\n",
       "      <td>66.3</td>\n",
       "      <td>44.064</td>\n",
       "    </tr>\n",
       "    <tr>\n",
       "      <th>1</th>\n",
       "      <td>1</td>\n",
       "      <td>9.8</td>\n",
       "      <td>10.584</td>\n",
       "    </tr>\n",
       "    <tr>\n",
       "      <th>2</th>\n",
       "      <td>2</td>\n",
       "      <td>19.5</td>\n",
       "      <td>12.960</td>\n",
       "    </tr>\n",
       "    <tr>\n",
       "      <th>3</th>\n",
       "      <td>3</td>\n",
       "      <td>4.2</td>\n",
       "      <td>4.536</td>\n",
       "    </tr>\n",
       "  </tbody>\n",
       "</table>\n",
       "</div>"
      ],
      "text/plain": [
       "   task_id  task_time_default_in_s  task_time_custom_in_s\n",
       "0        0                    66.3                 44.064\n",
       "1        1                     9.8                 10.584\n",
       "2        2                    19.5                 12.960\n",
       "3        3                     4.2                  4.536"
      ]
     },
     "execution_count": 6,
     "metadata": {},
     "output_type": "execute_result"
    }
   ],
   "source": [
    "# Create a pandas dataframe with the task completion times above\n",
    "times_df = pd.DataFrame.from_dict(task_completion_times, orient='index', \n",
    "                                  columns=['task_time_default_in_s', 'task_time_custom_in_s']).reset_index()\n",
    "times_df.rename(columns={times_df.columns[0]:'task_id'}, inplace = True)\n",
    "times_df.head()"
   ]
  },
  {
   "cell_type": "code",
   "execution_count": 7,
   "id": "arctic-development",
   "metadata": {},
   "outputs": [],
   "source": [
    "# read in actual task completion times in the experiment\n",
    "current_task_start_time = 0\n",
    "actual_task_times = defaultdict(list, { k:[] for k in ('0','1','2', '3') })\n",
    "\n",
    "# iterate over all participants\n",
    "for i in range(8):\n",
    "    log = pd.read_csv(f\"calculator_experiment_p_{i}.csv\")\n",
    "    for idx, val in log.iterrows():\n",
    "        if log.iloc[idx]['eventType'] == 'task_started' or log.iloc[idx]['eventType'] == 'task_restarted':\n",
    "            # idx+1 as we start measuring the time with the first event the user triggered after starting the task\n",
    "            current_task_start_time = log.iloc[idx+1]['timeStamp']\n",
    "        elif log.iloc[idx]['eventType'] == 'task_finished':\n",
    "            task_id = log.iloc[idx]['argument']\n",
    "            actual_task_times[task_id].append(log.iloc[idx]['timeStamp'] - current_task_start_time)"
   ]
  },
  {
   "cell_type": "code",
   "execution_count": 8,
   "id": "skilled-edinburgh",
   "metadata": {},
   "outputs": [
    {
     "data": {
      "text/html": [
       "<div>\n",
       "<style scoped>\n",
       "    .dataframe tbody tr th:only-of-type {\n",
       "        vertical-align: middle;\n",
       "    }\n",
       "\n",
       "    .dataframe tbody tr th {\n",
       "        vertical-align: top;\n",
       "    }\n",
       "\n",
       "    .dataframe thead th {\n",
       "        text-align: right;\n",
       "    }\n",
       "</style>\n",
       "<table border=\"1\" class=\"dataframe\">\n",
       "  <thead>\n",
       "    <tr style=\"text-align: right;\">\n",
       "      <th></th>\n",
       "      <th>task_id</th>\n",
       "      <th>0</th>\n",
       "      <th>1</th>\n",
       "      <th>2</th>\n",
       "      <th>3</th>\n",
       "      <th>4</th>\n",
       "      <th>5</th>\n",
       "      <th>6</th>\n",
       "      <th>7</th>\n",
       "    </tr>\n",
       "  </thead>\n",
       "  <tbody>\n",
       "    <tr>\n",
       "      <th>0</th>\n",
       "      <td>0</td>\n",
       "      <td>19.595232</td>\n",
       "      <td>20.719191</td>\n",
       "      <td>20.083575</td>\n",
       "      <td>20.638578</td>\n",
       "      <td>28.158820</td>\n",
       "      <td>28.222828</td>\n",
       "      <td>27.918863</td>\n",
       "      <td>28.309001</td>\n",
       "    </tr>\n",
       "    <tr>\n",
       "      <th>1</th>\n",
       "      <td>1</td>\n",
       "      <td>12.327166</td>\n",
       "      <td>10.929437</td>\n",
       "      <td>11.564562</td>\n",
       "      <td>10.992928</td>\n",
       "      <td>19.434556</td>\n",
       "      <td>17.920175</td>\n",
       "      <td>16.911010</td>\n",
       "      <td>18.947040</td>\n",
       "    </tr>\n",
       "    <tr>\n",
       "      <th>2</th>\n",
       "      <td>2</td>\n",
       "      <td>7.346711</td>\n",
       "      <td>7.947376</td>\n",
       "      <td>7.347708</td>\n",
       "      <td>8.576391</td>\n",
       "      <td>12.904812</td>\n",
       "      <td>10.399560</td>\n",
       "      <td>9.913563</td>\n",
       "      <td>9.886140</td>\n",
       "    </tr>\n",
       "    <tr>\n",
       "      <th>3</th>\n",
       "      <td>3</td>\n",
       "      <td>5.952444</td>\n",
       "      <td>6.744643</td>\n",
       "      <td>5.683362</td>\n",
       "      <td>6.346666</td>\n",
       "      <td>9.235302</td>\n",
       "      <td>7.525145</td>\n",
       "      <td>8.517506</td>\n",
       "      <td>7.929211</td>\n",
       "    </tr>\n",
       "  </tbody>\n",
       "</table>\n",
       "</div>"
      ],
      "text/plain": [
       "  task_id          0          1          2          3          4          5  \\\n",
       "0       0  19.595232  20.719191  20.083575  20.638578  28.158820  28.222828   \n",
       "1       1  12.327166  10.929437  11.564562  10.992928  19.434556  17.920175   \n",
       "2       2   7.346711   7.947376   7.347708   8.576391  12.904812  10.399560   \n",
       "3       3   5.952444   6.744643   5.683362   6.346666   9.235302   7.525145   \n",
       "\n",
       "           6          7  \n",
       "0  27.918863  28.309001  \n",
       "1  16.911010  18.947040  \n",
       "2   9.913563   9.886140  \n",
       "3   8.517506   7.929211  "
      ]
     },
     "execution_count": 8,
     "metadata": {},
     "output_type": "execute_result"
    }
   ],
   "source": [
    "# convert to pandas dataframe\n",
    "actual_times_df = pd.DataFrame.from_dict(actual_task_times, orient='index').reset_index()\n",
    "actual_times_df.rename(columns={actual_times_df.columns[0]:'task_id'}, inplace = True)\n",
    "actual_times_df"
   ]
  },
  {
   "cell_type": "code",
   "execution_count": 9,
   "id": "subjective-american",
   "metadata": {},
   "outputs": [],
   "source": [
    "# pd.concat([times_df, actual_times_df], axis=1, join=\"inner\")"
   ]
  },
  {
   "cell_type": "code",
   "execution_count": 10,
   "id": "reasonable-token",
   "metadata": {},
   "outputs": [
    {
     "data": {
      "text/html": [
       "<div>\n",
       "<style scoped>\n",
       "    .dataframe tbody tr th:only-of-type {\n",
       "        vertical-align: middle;\n",
       "    }\n",
       "\n",
       "    .dataframe tbody tr th {\n",
       "        vertical-align: top;\n",
       "    }\n",
       "\n",
       "    .dataframe thead th {\n",
       "        text-align: right;\n",
       "    }\n",
       "</style>\n",
       "<table border=\"1\" class=\"dataframe\">\n",
       "  <thead>\n",
       "    <tr style=\"text-align: right;\">\n",
       "      <th></th>\n",
       "      <th>task_id</th>\n",
       "      <th>task_time_default_in_s</th>\n",
       "      <th>task_time_custom_in_s</th>\n",
       "      <th>0</th>\n",
       "      <th>1</th>\n",
       "      <th>2</th>\n",
       "      <th>3</th>\n",
       "      <th>4</th>\n",
       "      <th>5</th>\n",
       "      <th>6</th>\n",
       "      <th>7</th>\n",
       "    </tr>\n",
       "  </thead>\n",
       "  <tbody>\n",
       "    <tr>\n",
       "      <th>0</th>\n",
       "      <td>0</td>\n",
       "      <td>66.3</td>\n",
       "      <td>44.064</td>\n",
       "      <td>19.595232</td>\n",
       "      <td>20.719191</td>\n",
       "      <td>20.083575</td>\n",
       "      <td>20.638578</td>\n",
       "      <td>28.158820</td>\n",
       "      <td>28.222828</td>\n",
       "      <td>27.918863</td>\n",
       "      <td>28.309001</td>\n",
       "    </tr>\n",
       "    <tr>\n",
       "      <th>1</th>\n",
       "      <td>1</td>\n",
       "      <td>9.8</td>\n",
       "      <td>10.584</td>\n",
       "      <td>12.327166</td>\n",
       "      <td>10.929437</td>\n",
       "      <td>11.564562</td>\n",
       "      <td>10.992928</td>\n",
       "      <td>19.434556</td>\n",
       "      <td>17.920175</td>\n",
       "      <td>16.911010</td>\n",
       "      <td>18.947040</td>\n",
       "    </tr>\n",
       "    <tr>\n",
       "      <th>2</th>\n",
       "      <td>2</td>\n",
       "      <td>19.5</td>\n",
       "      <td>12.960</td>\n",
       "      <td>7.346711</td>\n",
       "      <td>7.947376</td>\n",
       "      <td>7.347708</td>\n",
       "      <td>8.576391</td>\n",
       "      <td>12.904812</td>\n",
       "      <td>10.399560</td>\n",
       "      <td>9.913563</td>\n",
       "      <td>9.886140</td>\n",
       "    </tr>\n",
       "    <tr>\n",
       "      <th>3</th>\n",
       "      <td>3</td>\n",
       "      <td>4.2</td>\n",
       "      <td>4.536</td>\n",
       "      <td>5.952444</td>\n",
       "      <td>6.744643</td>\n",
       "      <td>5.683362</td>\n",
       "      <td>6.346666</td>\n",
       "      <td>9.235302</td>\n",
       "      <td>7.525145</td>\n",
       "      <td>8.517506</td>\n",
       "      <td>7.929211</td>\n",
       "    </tr>\n",
       "  </tbody>\n",
       "</table>\n",
       "</div>"
      ],
      "text/plain": [
       "   task_id  task_time_default_in_s  task_time_custom_in_s          0  \\\n",
       "0        0                    66.3                 44.064  19.595232   \n",
       "1        1                     9.8                 10.584  12.327166   \n",
       "2        2                    19.5                 12.960   7.346711   \n",
       "3        3                     4.2                  4.536   5.952444   \n",
       "\n",
       "           1          2          3          4          5          6          7  \n",
       "0  20.719191  20.083575  20.638578  28.158820  28.222828  27.918863  28.309001  \n",
       "1  10.929437  11.564562  10.992928  19.434556  17.920175  16.911010  18.947040  \n",
       "2   7.947376   7.347708   8.576391  12.904812  10.399560   9.913563   9.886140  \n",
       "3   6.744643   5.683362   6.346666   9.235302   7.525145   8.517506   7.929211  "
      ]
     },
     "execution_count": 10,
     "metadata": {},
     "output_type": "execute_result"
    }
   ],
   "source": [
    "# task_id is a string, so it has to be converted to an int first before merging\n",
    "actual_times_df['task_id'] = actual_times_df['task_id'].astype(int)\n",
    "merged_df = times_df.merge(actual_times_df, on=\"task_id\")\n",
    "merged_df"
   ]
  },
  {
   "cell_type": "code",
   "execution_count": 11,
   "id": "surrounded-virus",
   "metadata": {
    "scrolled": false
   },
   "outputs": [
    {
     "data": {
      "text/html": [
       "<div>\n",
       "<style scoped>\n",
       "    .dataframe tbody tr th:only-of-type {\n",
       "        vertical-align: middle;\n",
       "    }\n",
       "\n",
       "    .dataframe tbody tr th {\n",
       "        vertical-align: top;\n",
       "    }\n",
       "\n",
       "    .dataframe thead th {\n",
       "        text-align: right;\n",
       "    }\n",
       "</style>\n",
       "<table border=\"1\" class=\"dataframe\">\n",
       "  <thead>\n",
       "    <tr style=\"text-align: right;\">\n",
       "      <th></th>\n",
       "      <th>task_id</th>\n",
       "      <th>task_time_default_in_s</th>\n",
       "      <th>task_time_custom_in_s</th>\n",
       "      <th>participant</th>\n",
       "      <th>task_time_actual_in_s</th>\n",
       "    </tr>\n",
       "  </thead>\n",
       "  <tbody>\n",
       "    <tr>\n",
       "      <th>0</th>\n",
       "      <td>0</td>\n",
       "      <td>66.3</td>\n",
       "      <td>44.064</td>\n",
       "      <td>0</td>\n",
       "      <td>19.595232</td>\n",
       "    </tr>\n",
       "    <tr>\n",
       "      <th>1</th>\n",
       "      <td>1</td>\n",
       "      <td>9.8</td>\n",
       "      <td>10.584</td>\n",
       "      <td>0</td>\n",
       "      <td>12.327166</td>\n",
       "    </tr>\n",
       "    <tr>\n",
       "      <th>2</th>\n",
       "      <td>2</td>\n",
       "      <td>19.5</td>\n",
       "      <td>12.960</td>\n",
       "      <td>0</td>\n",
       "      <td>7.346711</td>\n",
       "    </tr>\n",
       "    <tr>\n",
       "      <th>3</th>\n",
       "      <td>3</td>\n",
       "      <td>4.2</td>\n",
       "      <td>4.536</td>\n",
       "      <td>0</td>\n",
       "      <td>5.952444</td>\n",
       "    </tr>\n",
       "    <tr>\n",
       "      <th>4</th>\n",
       "      <td>0</td>\n",
       "      <td>66.3</td>\n",
       "      <td>44.064</td>\n",
       "      <td>1</td>\n",
       "      <td>20.719191</td>\n",
       "    </tr>\n",
       "    <tr>\n",
       "      <th>5</th>\n",
       "      <td>1</td>\n",
       "      <td>9.8</td>\n",
       "      <td>10.584</td>\n",
       "      <td>1</td>\n",
       "      <td>10.929437</td>\n",
       "    </tr>\n",
       "    <tr>\n",
       "      <th>6</th>\n",
       "      <td>2</td>\n",
       "      <td>19.5</td>\n",
       "      <td>12.960</td>\n",
       "      <td>1</td>\n",
       "      <td>7.947376</td>\n",
       "    </tr>\n",
       "    <tr>\n",
       "      <th>7</th>\n",
       "      <td>3</td>\n",
       "      <td>4.2</td>\n",
       "      <td>4.536</td>\n",
       "      <td>1</td>\n",
       "      <td>6.744643</td>\n",
       "    </tr>\n",
       "    <tr>\n",
       "      <th>8</th>\n",
       "      <td>0</td>\n",
       "      <td>66.3</td>\n",
       "      <td>44.064</td>\n",
       "      <td>2</td>\n",
       "      <td>20.083575</td>\n",
       "    </tr>\n",
       "    <tr>\n",
       "      <th>9</th>\n",
       "      <td>1</td>\n",
       "      <td>9.8</td>\n",
       "      <td>10.584</td>\n",
       "      <td>2</td>\n",
       "      <td>11.564562</td>\n",
       "    </tr>\n",
       "    <tr>\n",
       "      <th>10</th>\n",
       "      <td>2</td>\n",
       "      <td>19.5</td>\n",
       "      <td>12.960</td>\n",
       "      <td>2</td>\n",
       "      <td>7.347708</td>\n",
       "    </tr>\n",
       "    <tr>\n",
       "      <th>11</th>\n",
       "      <td>3</td>\n",
       "      <td>4.2</td>\n",
       "      <td>4.536</td>\n",
       "      <td>2</td>\n",
       "      <td>5.683362</td>\n",
       "    </tr>\n",
       "    <tr>\n",
       "      <th>12</th>\n",
       "      <td>0</td>\n",
       "      <td>66.3</td>\n",
       "      <td>44.064</td>\n",
       "      <td>3</td>\n",
       "      <td>20.638578</td>\n",
       "    </tr>\n",
       "    <tr>\n",
       "      <th>13</th>\n",
       "      <td>1</td>\n",
       "      <td>9.8</td>\n",
       "      <td>10.584</td>\n",
       "      <td>3</td>\n",
       "      <td>10.992928</td>\n",
       "    </tr>\n",
       "    <tr>\n",
       "      <th>14</th>\n",
       "      <td>2</td>\n",
       "      <td>19.5</td>\n",
       "      <td>12.960</td>\n",
       "      <td>3</td>\n",
       "      <td>8.576391</td>\n",
       "    </tr>\n",
       "    <tr>\n",
       "      <th>15</th>\n",
       "      <td>3</td>\n",
       "      <td>4.2</td>\n",
       "      <td>4.536</td>\n",
       "      <td>3</td>\n",
       "      <td>6.346666</td>\n",
       "    </tr>\n",
       "    <tr>\n",
       "      <th>16</th>\n",
       "      <td>0</td>\n",
       "      <td>66.3</td>\n",
       "      <td>44.064</td>\n",
       "      <td>4</td>\n",
       "      <td>28.158820</td>\n",
       "    </tr>\n",
       "    <tr>\n",
       "      <th>17</th>\n",
       "      <td>1</td>\n",
       "      <td>9.8</td>\n",
       "      <td>10.584</td>\n",
       "      <td>4</td>\n",
       "      <td>19.434556</td>\n",
       "    </tr>\n",
       "    <tr>\n",
       "      <th>18</th>\n",
       "      <td>2</td>\n",
       "      <td>19.5</td>\n",
       "      <td>12.960</td>\n",
       "      <td>4</td>\n",
       "      <td>12.904812</td>\n",
       "    </tr>\n",
       "    <tr>\n",
       "      <th>19</th>\n",
       "      <td>3</td>\n",
       "      <td>4.2</td>\n",
       "      <td>4.536</td>\n",
       "      <td>4</td>\n",
       "      <td>9.235302</td>\n",
       "    </tr>\n",
       "    <tr>\n",
       "      <th>20</th>\n",
       "      <td>0</td>\n",
       "      <td>66.3</td>\n",
       "      <td>44.064</td>\n",
       "      <td>5</td>\n",
       "      <td>28.222828</td>\n",
       "    </tr>\n",
       "    <tr>\n",
       "      <th>21</th>\n",
       "      <td>1</td>\n",
       "      <td>9.8</td>\n",
       "      <td>10.584</td>\n",
       "      <td>5</td>\n",
       "      <td>17.920175</td>\n",
       "    </tr>\n",
       "    <tr>\n",
       "      <th>22</th>\n",
       "      <td>2</td>\n",
       "      <td>19.5</td>\n",
       "      <td>12.960</td>\n",
       "      <td>5</td>\n",
       "      <td>10.399560</td>\n",
       "    </tr>\n",
       "    <tr>\n",
       "      <th>23</th>\n",
       "      <td>3</td>\n",
       "      <td>4.2</td>\n",
       "      <td>4.536</td>\n",
       "      <td>5</td>\n",
       "      <td>7.525145</td>\n",
       "    </tr>\n",
       "    <tr>\n",
       "      <th>24</th>\n",
       "      <td>0</td>\n",
       "      <td>66.3</td>\n",
       "      <td>44.064</td>\n",
       "      <td>6</td>\n",
       "      <td>27.918863</td>\n",
       "    </tr>\n",
       "    <tr>\n",
       "      <th>25</th>\n",
       "      <td>1</td>\n",
       "      <td>9.8</td>\n",
       "      <td>10.584</td>\n",
       "      <td>6</td>\n",
       "      <td>16.911010</td>\n",
       "    </tr>\n",
       "    <tr>\n",
       "      <th>26</th>\n",
       "      <td>2</td>\n",
       "      <td>19.5</td>\n",
       "      <td>12.960</td>\n",
       "      <td>6</td>\n",
       "      <td>9.913563</td>\n",
       "    </tr>\n",
       "    <tr>\n",
       "      <th>27</th>\n",
       "      <td>3</td>\n",
       "      <td>4.2</td>\n",
       "      <td>4.536</td>\n",
       "      <td>6</td>\n",
       "      <td>8.517506</td>\n",
       "    </tr>\n",
       "    <tr>\n",
       "      <th>28</th>\n",
       "      <td>0</td>\n",
       "      <td>66.3</td>\n",
       "      <td>44.064</td>\n",
       "      <td>7</td>\n",
       "      <td>28.309001</td>\n",
       "    </tr>\n",
       "    <tr>\n",
       "      <th>29</th>\n",
       "      <td>1</td>\n",
       "      <td>9.8</td>\n",
       "      <td>10.584</td>\n",
       "      <td>7</td>\n",
       "      <td>18.947040</td>\n",
       "    </tr>\n",
       "    <tr>\n",
       "      <th>30</th>\n",
       "      <td>2</td>\n",
       "      <td>19.5</td>\n",
       "      <td>12.960</td>\n",
       "      <td>7</td>\n",
       "      <td>9.886140</td>\n",
       "    </tr>\n",
       "    <tr>\n",
       "      <th>31</th>\n",
       "      <td>3</td>\n",
       "      <td>4.2</td>\n",
       "      <td>4.536</td>\n",
       "      <td>7</td>\n",
       "      <td>7.929211</td>\n",
       "    </tr>\n",
       "  </tbody>\n",
       "</table>\n",
       "</div>"
      ],
      "text/plain": [
       "    task_id  task_time_default_in_s  task_time_custom_in_s participant  \\\n",
       "0         0                    66.3                 44.064           0   \n",
       "1         1                     9.8                 10.584           0   \n",
       "2         2                    19.5                 12.960           0   \n",
       "3         3                     4.2                  4.536           0   \n",
       "4         0                    66.3                 44.064           1   \n",
       "5         1                     9.8                 10.584           1   \n",
       "6         2                    19.5                 12.960           1   \n",
       "7         3                     4.2                  4.536           1   \n",
       "8         0                    66.3                 44.064           2   \n",
       "9         1                     9.8                 10.584           2   \n",
       "10        2                    19.5                 12.960           2   \n",
       "11        3                     4.2                  4.536           2   \n",
       "12        0                    66.3                 44.064           3   \n",
       "13        1                     9.8                 10.584           3   \n",
       "14        2                    19.5                 12.960           3   \n",
       "15        3                     4.2                  4.536           3   \n",
       "16        0                    66.3                 44.064           4   \n",
       "17        1                     9.8                 10.584           4   \n",
       "18        2                    19.5                 12.960           4   \n",
       "19        3                     4.2                  4.536           4   \n",
       "20        0                    66.3                 44.064           5   \n",
       "21        1                     9.8                 10.584           5   \n",
       "22        2                    19.5                 12.960           5   \n",
       "23        3                     4.2                  4.536           5   \n",
       "24        0                    66.3                 44.064           6   \n",
       "25        1                     9.8                 10.584           6   \n",
       "26        2                    19.5                 12.960           6   \n",
       "27        3                     4.2                  4.536           6   \n",
       "28        0                    66.3                 44.064           7   \n",
       "29        1                     9.8                 10.584           7   \n",
       "30        2                    19.5                 12.960           7   \n",
       "31        3                     4.2                  4.536           7   \n",
       "\n",
       "    task_time_actual_in_s  \n",
       "0               19.595232  \n",
       "1               12.327166  \n",
       "2                7.346711  \n",
       "3                5.952444  \n",
       "4               20.719191  \n",
       "5               10.929437  \n",
       "6                7.947376  \n",
       "7                6.744643  \n",
       "8               20.083575  \n",
       "9               11.564562  \n",
       "10               7.347708  \n",
       "11               5.683362  \n",
       "12              20.638578  \n",
       "13              10.992928  \n",
       "14               8.576391  \n",
       "15               6.346666  \n",
       "16              28.158820  \n",
       "17              19.434556  \n",
       "18              12.904812  \n",
       "19               9.235302  \n",
       "20              28.222828  \n",
       "21              17.920175  \n",
       "22              10.399560  \n",
       "23               7.525145  \n",
       "24              27.918863  \n",
       "25              16.911010  \n",
       "26               9.913563  \n",
       "27               8.517506  \n",
       "28              28.309001  \n",
       "29              18.947040  \n",
       "30               9.886140  \n",
       "31               7.929211  "
      ]
     },
     "execution_count": 11,
     "metadata": {},
     "output_type": "execute_result"
    }
   ],
   "source": [
    "merged_df_updated = pd.melt(merged_df, id_vars=['task_id', 'task_time_default_in_s', 'task_time_custom_in_s'], \n",
    "                         value_vars=[0, 1, 2, 3, 4, 5, 6, 7], \n",
    "                         var_name='participant', value_name='task_time_actual_in_s')\n",
    "merged_df_updated"
   ]
  },
  {
   "cell_type": "code",
   "execution_count": 12,
   "id": "ceramic-young",
   "metadata": {
    "scrolled": false
   },
   "outputs": [
    {
     "data": {
      "text/html": [
       "<div>\n",
       "<style scoped>\n",
       "    .dataframe tbody tr th:only-of-type {\n",
       "        vertical-align: middle;\n",
       "    }\n",
       "\n",
       "    .dataframe tbody tr th {\n",
       "        vertical-align: top;\n",
       "    }\n",
       "\n",
       "    .dataframe thead th {\n",
       "        text-align: right;\n",
       "    }\n",
       "</style>\n",
       "<table border=\"1\" class=\"dataframe\">\n",
       "  <thead>\n",
       "    <tr style=\"text-align: right;\">\n",
       "      <th></th>\n",
       "      <th>task_id</th>\n",
       "      <th>time_type</th>\n",
       "      <th>time_in_s</th>\n",
       "    </tr>\n",
       "  </thead>\n",
       "  <tbody>\n",
       "    <tr>\n",
       "      <th>0</th>\n",
       "      <td>0</td>\n",
       "      <td>klm_default</td>\n",
       "      <td>66.300000</td>\n",
       "    </tr>\n",
       "    <tr>\n",
       "      <th>1</th>\n",
       "      <td>1</td>\n",
       "      <td>klm_default</td>\n",
       "      <td>9.800000</td>\n",
       "    </tr>\n",
       "    <tr>\n",
       "      <th>2</th>\n",
       "      <td>2</td>\n",
       "      <td>klm_default</td>\n",
       "      <td>19.500000</td>\n",
       "    </tr>\n",
       "    <tr>\n",
       "      <th>3</th>\n",
       "      <td>3</td>\n",
       "      <td>klm_default</td>\n",
       "      <td>4.200000</td>\n",
       "    </tr>\n",
       "    <tr>\n",
       "      <th>4</th>\n",
       "      <td>0</td>\n",
       "      <td>klm_default</td>\n",
       "      <td>66.300000</td>\n",
       "    </tr>\n",
       "    <tr>\n",
       "      <th>...</th>\n",
       "      <td>...</td>\n",
       "      <td>...</td>\n",
       "      <td>...</td>\n",
       "    </tr>\n",
       "    <tr>\n",
       "      <th>91</th>\n",
       "      <td>3</td>\n",
       "      <td>klm_actual</td>\n",
       "      <td>8.517506</td>\n",
       "    </tr>\n",
       "    <tr>\n",
       "      <th>92</th>\n",
       "      <td>0</td>\n",
       "      <td>klm_actual</td>\n",
       "      <td>28.309001</td>\n",
       "    </tr>\n",
       "    <tr>\n",
       "      <th>93</th>\n",
       "      <td>1</td>\n",
       "      <td>klm_actual</td>\n",
       "      <td>18.947040</td>\n",
       "    </tr>\n",
       "    <tr>\n",
       "      <th>94</th>\n",
       "      <td>2</td>\n",
       "      <td>klm_actual</td>\n",
       "      <td>9.886140</td>\n",
       "    </tr>\n",
       "    <tr>\n",
       "      <th>95</th>\n",
       "      <td>3</td>\n",
       "      <td>klm_actual</td>\n",
       "      <td>7.929211</td>\n",
       "    </tr>\n",
       "  </tbody>\n",
       "</table>\n",
       "<p>96 rows × 3 columns</p>\n",
       "</div>"
      ],
      "text/plain": [
       "    task_id    time_type  time_in_s\n",
       "0         0  klm_default  66.300000\n",
       "1         1  klm_default   9.800000\n",
       "2         2  klm_default  19.500000\n",
       "3         3  klm_default   4.200000\n",
       "4         0  klm_default  66.300000\n",
       "..      ...          ...        ...\n",
       "91        3   klm_actual   8.517506\n",
       "92        0   klm_actual  28.309001\n",
       "93        1   klm_actual  18.947040\n",
       "94        2   klm_actual   9.886140\n",
       "95        3   klm_actual   7.929211\n",
       "\n",
       "[96 rows x 3 columns]"
      ]
     },
     "execution_count": 12,
     "metadata": {},
     "output_type": "execute_result"
    }
   ],
   "source": [
    "# remove participant column\n",
    "merged_df_updated.drop(['participant'], axis=1)\n",
    "\n",
    "# rename some columns\n",
    "merged_df_updated.rename(columns={'task_time_default_in_s':'klm_default', \n",
    "                               'task_time_custom_in_s': 'klm_custom', \n",
    "                               'task_time_actual_in_s': 'klm_actual'\n",
    "                              }, inplace = True)\n",
    "# and make everything long format\n",
    "merged_df_long = pd.melt(merged_df_updated, id_vars=['task_id'], \n",
    "                         value_vars=['klm_default', 'klm_custom', 'klm_actual'], \n",
    "                         var_name='time_type', value_name='time_in_s')\n",
    "merged_df_long"
   ]
  },
  {
   "cell_type": "markdown",
   "id": "numerical-fishing",
   "metadata": {},
   "source": [
    "## Visualizations\n",
    "Comparison of the two estimates for each task with the actual task completion times"
   ]
  },
  {
   "cell_type": "code",
   "execution_count": 21,
   "id": "little-clarity",
   "metadata": {},
   "outputs": [
    {
     "data": {
      "text/plain": [
       "Text(0.5, 0.98, 'Task times in seconds per task and klm estimation type')"
      ]
     },
     "execution_count": 21,
     "metadata": {},
     "output_type": "execute_result"
    },
    {
     "data": {
      "image/png": "[encoded data removed]",
      "text/plain": [
       "<Figure size 455.875x360 with 1 Axes>"
      ]
     },
     "metadata": {
      "needs_background": "light"
     },
     "output_type": "display_data"
    }
   ],
   "source": [
    "plot = sns.catplot(x=\"task_id\", y=\"time_in_s\", hue=\"time_type\", kind=\"swarm\", \n",
    "                   s=4, data=merged_df_long)\n",
    "\n",
    "plot.fig.subplots_adjust(top=0.9)  # add some space between plot and title\n",
    "plot.fig.suptitle('Task times in seconds per task and klm estimation type')"
   ]
  },
  {
   "cell_type": "code",
   "execution_count": 23,
   "id": "latter-transport",
   "metadata": {},
   "outputs": [
    {
     "data": {
      "text/plain": [
       "Text(0.5, 0.98, 'Task times in seconds per task and klm estimation type')"
      ]
     },
     "execution_count": 23,
     "metadata": {},
     "output_type": "execute_result"
    },
    {
     "data": {
      "image/png": "[encoded data removed]",
      "text/plain": [
       "<Figure size 1080x360 with 4 Axes>"
      ]
     },
     "metadata": {
      "needs_background": "light"
     },
     "output_type": "display_data"
    }
   ],
   "source": [
    "# almost exactly the same plot as above, but splitted into columns for better readability\n",
    "sns_plot = sns.catplot(data=merged_df_long,\n",
    "            x=\"time_type\", y=\"time_in_s\", hue=\"time_type\",\n",
    "            col=\"task_id\", aspect=.75,\n",
    "            kind=\"swarm\")\n",
    "sns_plot.fig.subplots_adjust(top=0.8)\n",
    "sns_plot.fig.suptitle('Task times in seconds per task and klm estimation type')"
   ]
  },
  {
   "cell_type": "code",
   "execution_count": 24,
   "id": "mobile-church",
   "metadata": {},
   "outputs": [
    {
     "data": {
      "text/plain": [
       "Text(0.5, 0.98, 'Task times in seconds per klm estimation type')"
      ]
     },
     "execution_count": 24,
     "metadata": {},
     "output_type": "execute_result"
    },
    {
     "data": {
      "image/png": "[encoded data removed]",
      "text/plain": [
       "<Figure size 455.875x360 with 1 Axes>"
      ]
     },
     "metadata": {
      "needs_background": "light"
     },
     "output_type": "display_data"
    }
   ],
   "source": [
    "rp = sns.relplot(data=merged_df_long, x='time_type', y='time_in_s', hue='time_type', kind='scatter')\n",
    "rp.fig.subplots_adjust(top=0.9)\n",
    "rp.fig.suptitle('Task times in seconds per klm estimation type')"
   ]
  },
  {
   "cell_type": "code",
   "execution_count": 16,
   "id": "running-converter",
   "metadata": {},
   "outputs": [],
   "source": [
    "# sns.stripplot(x=\"task_id\", y=\"time_in_s\", hue=\"time_type\", data=merged_df_long)"
   ]
  },
  {
   "cell_type": "code",
   "execution_count": 30,
   "id": "czech-roulette",
   "metadata": {},
   "outputs": [
    {
     "data": {
      "text/plain": [
       "Text(0.5, 0.98, 'Task time in seconds per klm estimation type split by task')"
      ]
     },
     "execution_count": 30,
     "metadata": {},
     "output_type": "execute_result"
    },
    {
     "data": {
      "image/png": "[encoded data removed]",
      "text/plain": [
       "<Figure size 1080x360 with 4 Axes>"
      ]
     },
     "metadata": {
      "needs_background": "light"
     },
     "output_type": "display_data"
    }
   ],
   "source": [
    "cp = sns.catplot(data=merged_df_long,\n",
    "            x=\"time_type\", y=\"time_in_s\", hue=\"time_type\",\n",
    "            col=\"task_id\", aspect=.75, dodge=False,\n",
    "            kind=\"bar\")\n",
    "cp.fig.subplots_adjust(top=0.8)\n",
    "cp.fig.suptitle(\"Task time in seconds per klm estimation type split by task\")"
   ]
  },
  {
   "cell_type": "code",
   "execution_count": 28,
   "id": "distant-database",
   "metadata": {},
   "outputs": [
    {
     "data": {
      "text/plain": [
       "Text(0.5, 1.0, 'Time in seconds per task sorted by klm estimation type')"
      ]
     },
     "execution_count": 28,
     "metadata": {},
     "output_type": "execute_result"
    },
    {
     "data": {
      "image/png": "[encoded data removed]",
      "text/plain": [
       "<Figure size 432x288 with 1 Axes>"
      ]
     },
     "metadata": {
      "needs_background": "light"
     },
     "output_type": "display_data"
    }
   ],
   "source": [
    "ax = plt.axes()\n",
    "sns.barplot(data=merged_df_long, x=\"time_type\", y=\"time_in_s\", hue=\"task_id\", ax = ax, dodge = True)\n",
    "ax.set_xlabel(\"klm estimation type\")\n",
    "ax.set_ylabel(\"time in seconds\")\n",
    "ax.set_title(\"Time in seconds per task sorted by klm estimation type\")"
   ]
  },
  {
   "cell_type": "code",
   "execution_count": 33,
   "id": "driving-expert",
   "metadata": {},
   "outputs": [
    {
     "data": {
      "text/plain": [
       "Text(0.5, 1.0, 'Task time in seconds needed per klm estimation type')"
      ]
     },
     "execution_count": 33,
     "metadata": {},
     "output_type": "execute_result"
    },
    {
     "data": {
      "image/png": "[encoded data removed]",
      "text/plain": [
       "<Figure size 432x288 with 1 Axes>"
      ]
     },
     "metadata": {
      "needs_background": "light"
     },
     "output_type": "display_data"
    }
   ],
   "source": [
    "boxplot = sns.boxplot(x=\"time_type\", y=\"time_in_s\", data=merged_df_long)\n",
    "boxplot.set_title(\"Task time in seconds needed per klm estimation type\")"
   ]
  },
  {
   "cell_type": "code",
   "execution_count": 20,
   "id": "chicken-montana",
   "metadata": {},
   "outputs": [],
   "source": [
    "# sns.lmplot(x=\"task_id\", y=\"time_in_s\", hue=\"time_type\", data=merged_df_long)"
   ]
  },
  {
   "cell_type": "markdown",
   "id": "prospective-argentina",
   "metadata": {},
   "source": [
    "## Results"
   ]
  },
  {
   "cell_type": "markdown",
   "id": "pursuant-dispute",
   "metadata": {},
   "source": [
    "The plots show that overall our actual measured task times are quite similar to the ones we estimated during Task 6.2 while the default task time estimations (i.e. the ones from Card et al. (1980) and Kieras (2001)) differed a bit more for all tasks, especially in the first task. The reason for this is that although most of our own estimated task times are all in all quite similar to the ones in the literature, pointing was a lot faster in our estimation in 6.2. As the pointing operator is used a lot in the first task, this difference does make sense.\n",
    "\n",
    "The boxplot above also shows that the task times vary more when using the klm time estimates as defined in the literature and that the mean of these values is slightly higher than in our custom and actual task times.\n",
    "\n",
    "In summary, our estimations in 6.2 have been proven to be quite accurate as they are nearly identical to the actual task times in our study. This could be the result of using the same participants for getting our custom klm times and the actual times per task."
   ]
  }
 ],
 "metadata": {
  "kernelspec": {
   "display_name": "Python 3",
   "language": "python",
   "name": "python3"
  },
  "language_info": {
   "codemirror_mode": {
    "name": "ipython",
    "version": 3
   },
   "file_extension": ".py",
   "mimetype": "text/x-python",
   "name": "python",
   "nbconvert_exporter": "python",
   "pygments_lexer": "ipython3",
   "version": "3.9.2"
  }
 },
 "nbformat": 4,
 "nbformat_minor": 5
}
