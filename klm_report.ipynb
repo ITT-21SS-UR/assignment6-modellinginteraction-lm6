{
 "cells": [
  {
   "cell_type": "markdown",
   "id": "endangered-spray",
   "metadata": {},
   "source": [
    "# 6.4: KLM Report"
   ]
  },
  {
   "cell_type": "markdown",
   "id": "blond-founder",
   "metadata": {},
   "source": []
  },
  {
   "cell_type": "markdown",
   "id": "accepted-killer",
   "metadata": {},
   "source": [
    "## Part 1: Estimate task completion time for tasks"
   ]
  },
  {
   "cell_type": "markdown",
   "id": "essential-harvey",
   "metadata": {},
   "source": [
    "### Tasks:\n",
    "\n",
    "* Task 1: adding the numbers from 1 to 20 using only the mouse\n",
    "\n",
    "* Task 2: adding the numbers from 1 to 20 using only the keyboard\n",
    "\n",
    "* Task 3: calculating the result of (3² + 4²) ∗ 15.2 using only the mouse\n",
    "\n",
    "* Task 4: calculating the result of (3² + 4²) ∗ 15.2 using only the keyboard\n",
    "\n",
    "###### Assumptions:\n",
    "the calculator is already opened and focused and the user's hand is already on the correct input device for the first action (either mouse or keyboard)"
   ]
  },
  {
   "cell_type": "code",
   "execution_count": 1,
   "id": "elder-nation",
   "metadata": {},
   "outputs": [],
   "source": [
    "# %load_ext pycodestyle_magic\n",
    "# %pycodestyle_on"
   ]
  },
  {
   "cell_type": "code",
   "execution_count": 2,
   "id": "imposed-helena",
   "metadata": {},
   "outputs": [],
   "source": [
    "# import the klm calculator\n",
    "from klm import calculate_klm"
   ]
  },
  {
   "cell_type": "code",
   "execution_count": 3,
   "id": "occasional-bleeding",
   "metadata": {},
   "outputs": [],
   "source": [
    "# specify the files with klm operators for each task\n",
    "\n",
    "file_task1 = \"./klm_tasks/task1.txt\"\n",
    "file_task2 = \"./klm_tasks/task2.txt\"\n",
    "file_task3 = \"./klm_tasks/task3.txt\"\n",
    "file_task4 = \"./klm_tasks/task4.txt\""
   ]
  },
  {
   "cell_type": "code",
   "execution_count": 4,
   "id": "generous-polymer",
   "metadata": {},
   "outputs": [
    {
     "name": "stdout",
     "output_type": "stream",
     "text": [
      "\n",
      "Predicted task completion time for task 1:\n",
      "Input operators were: PBBPBB16P32BPBBPBBPBB30P60B\n",
      "Predicted task completion time for the given operators using custom klm values: 0.000 seconds.\n",
      "Predicted task completion time for the given operators using default klm values: 66.300 seconds.\n",
      "(66.30000000000001, 0.0)\n",
      "\n",
      "Predicted task completion time for task 2:\n",
      "Input operators were: 18K27KKKKK\n",
      "Predicted task completion time for the given operators using custom klm values: 0.000 seconds.\n",
      "Predicted task completion time for the given operators using default klm values: 9.800 seconds.\n",
      "(9.799999999999997, 0.0)\n",
      "\n",
      "Predicted task completion time for task 3:\n",
      "Input operators were: PBB7P14BPBB5P10BPBB\n",
      "Predicted task completion time for the given operators using custom klm values: 0.000 seconds.\n",
      "Predicted task completion time for the given operators using default klm values: 19.500 seconds.\n",
      "(19.500000000000007, 0.0)\n",
      "\n",
      "Predicted task completion time for task 4:\n",
      "Input operators were: 2K4KK4K2K6K2K\n",
      "Predicted task completion time for the given operators using custom klm values: 0.000 seconds.\n",
      "Predicted task completion time for the given operators using default klm values: 4.200 seconds.\n",
      "(4.2, 0.0)\n",
      "{1: (66.30000000000001, 0.0), 2: (9.799999999999997, 0.0), 3: (19.500000000000007, 0.0), 4: (4.2, 0.0)}\n"
     ]
    }
   ],
   "source": [
    "# and calculate their task completion times with the imported function\n",
    "task_completion_times = dict()\n",
    "\n",
    "for task_number, task_file in enumerate([file_task1, file_task2, file_task3, file_task4], start=1):\n",
    "    print(f\"\\nPredicted task completion time for task {task_number}:\")\n",
    "    times = calculate_klm(task_file)\n",
    "    task_completion_times[task_number] = times\n",
    "\n",
    "# print(task_completion_times)"
   ]
  },
  {
   "cell_type": "markdown",
   "id": "textile-minister",
   "metadata": {},
   "source": [
    "## Part 2: KLM Experiment"
   ]
  },
  {
   "cell_type": "markdown",
   "id": "digital-playlist",
   "metadata": {},
   "source": [
    "### Experiment Design\n",
    "TODO"
   ]
  },
  {
   "cell_type": "markdown",
   "id": "tough-support",
   "metadata": {},
   "source": [
    "### Participants\n",
    "TODO"
   ]
  },
  {
   "cell_type": "code",
   "execution_count": 5,
   "id": "lucky-shift",
   "metadata": {},
   "outputs": [],
   "source": [
    "import numpy as np\n",
    "import pandas as pd\n",
    "import seaborn as sns\n",
    "from matplotlib import pyplot as plt"
   ]
  },
  {
   "cell_type": "code",
   "execution_count": 22,
   "id": "arctic-development",
   "metadata": {},
   "outputs": [],
   "source": [
    "# TODO read in actual task completion times in the experiment\n",
    "#  -> fake it for now\n",
    "actual_times = {1: (54.2), 2: 10.3, 3: 20.7, 4: 5.5}"
   ]
  },
  {
   "cell_type": "code",
   "execution_count": 51,
   "id": "crude-ferry",
   "metadata": {},
   "outputs": [
    {
     "data": {
      "text/html": [
       "<div>\n",
       "<style scoped>\n",
       "    .dataframe tbody tr th:only-of-type {\n",
       "        vertical-align: middle;\n",
       "    }\n",
       "\n",
       "    .dataframe tbody tr th {\n",
       "        vertical-align: top;\n",
       "    }\n",
       "\n",
       "    .dataframe thead th {\n",
       "        text-align: right;\n",
       "    }\n",
       "</style>\n",
       "<table border=\"1\" class=\"dataframe\">\n",
       "  <thead>\n",
       "    <tr style=\"text-align: right;\">\n",
       "      <th></th>\n",
       "      <th>task_id</th>\n",
       "      <th>task_time_default_in_s</th>\n",
       "      <th>task_time_custom_in_s</th>\n",
       "    </tr>\n",
       "  </thead>\n",
       "  <tbody>\n",
       "    <tr>\n",
       "      <th>0</th>\n",
       "      <td>1</td>\n",
       "      <td>66.3</td>\n",
       "      <td>0.0</td>\n",
       "    </tr>\n",
       "    <tr>\n",
       "      <th>1</th>\n",
       "      <td>2</td>\n",
       "      <td>9.8</td>\n",
       "      <td>0.0</td>\n",
       "    </tr>\n",
       "    <tr>\n",
       "      <th>2</th>\n",
       "      <td>3</td>\n",
       "      <td>19.5</td>\n",
       "      <td>0.0</td>\n",
       "    </tr>\n",
       "    <tr>\n",
       "      <th>3</th>\n",
       "      <td>4</td>\n",
       "      <td>4.2</td>\n",
       "      <td>0.0</td>\n",
       "    </tr>\n",
       "  </tbody>\n",
       "</table>\n",
       "</div>"
      ],
      "text/plain": [
       "   task_id  task_time_default_in_s  task_time_custom_in_s\n",
       "0        1                    66.3                    0.0\n",
       "1        2                     9.8                    0.0\n",
       "2        3                    19.5                    0.0\n",
       "3        4                     4.2                    0.0"
      ]
     },
     "execution_count": 51,
     "metadata": {},
     "output_type": "execute_result"
    }
   ],
   "source": [
    "# Create a pandas dataframe with the task completion times\n",
    "times_df = pd.DataFrame.from_dict(task_completion_times, orient='index', \n",
    "                                  columns=['task_time_default_in_s', 'task_time_custom_in_s']).reset_index()\n",
    "times_df.rename(columns={times_df.columns[0]:'task_id'}, inplace = True)\n",
    "times_df.head()"
   ]
  },
  {
   "cell_type": "code",
   "execution_count": 53,
   "id": "fitted-pierre",
   "metadata": {
    "scrolled": true
   },
   "outputs": [
    {
     "data": {
      "text/html": [
       "<div>\n",
       "<style scoped>\n",
       "    .dataframe tbody tr th:only-of-type {\n",
       "        vertical-align: middle;\n",
       "    }\n",
       "\n",
       "    .dataframe tbody tr th {\n",
       "        vertical-align: top;\n",
       "    }\n",
       "\n",
       "    .dataframe thead th {\n",
       "        text-align: right;\n",
       "    }\n",
       "</style>\n",
       "<table border=\"1\" class=\"dataframe\">\n",
       "  <thead>\n",
       "    <tr style=\"text-align: right;\">\n",
       "      <th></th>\n",
       "      <th>task_id</th>\n",
       "      <th>task_time_actual_in_s</th>\n",
       "    </tr>\n",
       "  </thead>\n",
       "  <tbody>\n",
       "    <tr>\n",
       "      <th>0</th>\n",
       "      <td>1</td>\n",
       "      <td>54.2</td>\n",
       "    </tr>\n",
       "    <tr>\n",
       "      <th>1</th>\n",
       "      <td>2</td>\n",
       "      <td>10.3</td>\n",
       "    </tr>\n",
       "    <tr>\n",
       "      <th>2</th>\n",
       "      <td>3</td>\n",
       "      <td>20.7</td>\n",
       "    </tr>\n",
       "    <tr>\n",
       "      <th>3</th>\n",
       "      <td>4</td>\n",
       "      <td>5.5</td>\n",
       "    </tr>\n",
       "  </tbody>\n",
       "</table>\n",
       "</div>"
      ],
      "text/plain": [
       "   task_id  task_time_actual_in_s\n",
       "0        1                   54.2\n",
       "1        2                   10.3\n",
       "2        3                   20.7\n",
       "3        4                    5.5"
      ]
     },
     "execution_count": 53,
     "metadata": {},
     "output_type": "execute_result"
    }
   ],
   "source": [
    "# add the actual task completion times\n",
    "# times_df['task_time_actual_in_s'] = actual_times\n",
    "# times_df.head()\n",
    "actual_times_df = pd.DataFrame.from_dict(actual_times, orient='index', columns=['task_time_actual_in_s']).reset_index()\n",
    "actual_times_df.rename(columns={actual_times_df.columns[0]:'task_id'}, inplace = True)\n",
    "actual_times_df"
   ]
  },
  {
   "cell_type": "code",
   "execution_count": 61,
   "id": "reasonable-token",
   "metadata": {},
   "outputs": [
    {
     "data": {
      "text/html": [
       "<div>\n",
       "<style scoped>\n",
       "    .dataframe tbody tr th:only-of-type {\n",
       "        vertical-align: middle;\n",
       "    }\n",
       "\n",
       "    .dataframe tbody tr th {\n",
       "        vertical-align: top;\n",
       "    }\n",
       "\n",
       "    .dataframe thead th {\n",
       "        text-align: right;\n",
       "    }\n",
       "</style>\n",
       "<table border=\"1\" class=\"dataframe\">\n",
       "  <thead>\n",
       "    <tr style=\"text-align: right;\">\n",
       "      <th></th>\n",
       "      <th>task_id</th>\n",
       "      <th>task_time_default_in_s</th>\n",
       "      <th>task_time_custom_in_s</th>\n",
       "      <th>task_time_actual_in_s</th>\n",
       "    </tr>\n",
       "  </thead>\n",
       "  <tbody>\n",
       "    <tr>\n",
       "      <th>0</th>\n",
       "      <td>1</td>\n",
       "      <td>66.3</td>\n",
       "      <td>0.0</td>\n",
       "      <td>54.2</td>\n",
       "    </tr>\n",
       "    <tr>\n",
       "      <th>1</th>\n",
       "      <td>2</td>\n",
       "      <td>9.8</td>\n",
       "      <td>0.0</td>\n",
       "      <td>10.3</td>\n",
       "    </tr>\n",
       "    <tr>\n",
       "      <th>2</th>\n",
       "      <td>3</td>\n",
       "      <td>19.5</td>\n",
       "      <td>0.0</td>\n",
       "      <td>20.7</td>\n",
       "    </tr>\n",
       "    <tr>\n",
       "      <th>3</th>\n",
       "      <td>4</td>\n",
       "      <td>4.2</td>\n",
       "      <td>0.0</td>\n",
       "      <td>5.5</td>\n",
       "    </tr>\n",
       "  </tbody>\n",
       "</table>\n",
       "</div>"
      ],
      "text/plain": [
       "   task_id  task_time_default_in_s  task_time_custom_in_s  \\\n",
       "0        1                    66.3                    0.0   \n",
       "1        2                     9.8                    0.0   \n",
       "2        3                    19.5                    0.0   \n",
       "3        4                     4.2                    0.0   \n",
       "\n",
       "   task_time_actual_in_s  \n",
       "0                   54.2  \n",
       "1                   10.3  \n",
       "2                   20.7  \n",
       "3                    5.5  "
      ]
     },
     "execution_count": 61,
     "metadata": {},
     "output_type": "execute_result"
    }
   ],
   "source": [
    "merged_df = times_df.merge(actual_times_df, on=\"task_id\")\n",
    "merged_df"
   ]
  },
  {
   "cell_type": "code",
   "execution_count": 55,
   "id": "desperate-funds",
   "metadata": {},
   "outputs": [],
   "source": [
    "# pd.concat([times_df, actual_times_df], axis=1, join=\"inner\", ignore_index=True)"
   ]
  },
  {
   "cell_type": "code",
   "execution_count": 65,
   "id": "included-tokyo",
   "metadata": {},
   "outputs": [
    {
     "data": {
      "text/html": [
       "<div>\n",
       "<style scoped>\n",
       "    .dataframe tbody tr th:only-of-type {\n",
       "        vertical-align: middle;\n",
       "    }\n",
       "\n",
       "    .dataframe tbody tr th {\n",
       "        vertical-align: top;\n",
       "    }\n",
       "\n",
       "    .dataframe thead th {\n",
       "        text-align: right;\n",
       "    }\n",
       "</style>\n",
       "<table border=\"1\" class=\"dataframe\">\n",
       "  <thead>\n",
       "    <tr style=\"text-align: right;\">\n",
       "      <th></th>\n",
       "      <th>task_id</th>\n",
       "      <th>time_type</th>\n",
       "      <th>time_in_s</th>\n",
       "    </tr>\n",
       "  </thead>\n",
       "  <tbody>\n",
       "    <tr>\n",
       "      <th>0</th>\n",
       "      <td>1</td>\n",
       "      <td>klm_default</td>\n",
       "      <td>66.3</td>\n",
       "    </tr>\n",
       "    <tr>\n",
       "      <th>1</th>\n",
       "      <td>2</td>\n",
       "      <td>klm_default</td>\n",
       "      <td>9.8</td>\n",
       "    </tr>\n",
       "    <tr>\n",
       "      <th>2</th>\n",
       "      <td>3</td>\n",
       "      <td>klm_default</td>\n",
       "      <td>19.5</td>\n",
       "    </tr>\n",
       "    <tr>\n",
       "      <th>3</th>\n",
       "      <td>4</td>\n",
       "      <td>klm_default</td>\n",
       "      <td>4.2</td>\n",
       "    </tr>\n",
       "    <tr>\n",
       "      <th>4</th>\n",
       "      <td>1</td>\n",
       "      <td>klm_custom</td>\n",
       "      <td>0.0</td>\n",
       "    </tr>\n",
       "    <tr>\n",
       "      <th>5</th>\n",
       "      <td>2</td>\n",
       "      <td>klm_custom</td>\n",
       "      <td>0.0</td>\n",
       "    </tr>\n",
       "    <tr>\n",
       "      <th>6</th>\n",
       "      <td>3</td>\n",
       "      <td>klm_custom</td>\n",
       "      <td>0.0</td>\n",
       "    </tr>\n",
       "    <tr>\n",
       "      <th>7</th>\n",
       "      <td>4</td>\n",
       "      <td>klm_custom</td>\n",
       "      <td>0.0</td>\n",
       "    </tr>\n",
       "    <tr>\n",
       "      <th>8</th>\n",
       "      <td>1</td>\n",
       "      <td>klm_actual</td>\n",
       "      <td>54.2</td>\n",
       "    </tr>\n",
       "    <tr>\n",
       "      <th>9</th>\n",
       "      <td>2</td>\n",
       "      <td>klm_actual</td>\n",
       "      <td>10.3</td>\n",
       "    </tr>\n",
       "    <tr>\n",
       "      <th>10</th>\n",
       "      <td>3</td>\n",
       "      <td>klm_actual</td>\n",
       "      <td>20.7</td>\n",
       "    </tr>\n",
       "    <tr>\n",
       "      <th>11</th>\n",
       "      <td>4</td>\n",
       "      <td>klm_actual</td>\n",
       "      <td>5.5</td>\n",
       "    </tr>\n",
       "  </tbody>\n",
       "</table>\n",
       "</div>"
      ],
      "text/plain": [
       "    task_id    time_type  time_in_s\n",
       "0         1  klm_default       66.3\n",
       "1         2  klm_default        9.8\n",
       "2         3  klm_default       19.5\n",
       "3         4  klm_default        4.2\n",
       "4         1   klm_custom        0.0\n",
       "5         2   klm_custom        0.0\n",
       "6         3   klm_custom        0.0\n",
       "7         4   klm_custom        0.0\n",
       "8         1   klm_actual       54.2\n",
       "9         2   klm_actual       10.3\n",
       "10        3   klm_actual       20.7\n",
       "11        4   klm_actual        5.5"
      ]
     },
     "execution_count": 65,
     "metadata": {},
     "output_type": "execute_result"
    }
   ],
   "source": [
    "# tODO daten ins wide format mit melt bringen ? (die 3 zeiten!!)\n",
    "renamed_df = merged_df.rename(columns={'task_time_default_in_s': 'klm_default', 'task_time_custom_in_s': 'klm_custom', 'task_time_actual_in_s': 'klm_actual'})\n",
    "merged_df_long = pd.melt(renamed_df, id_vars=['task_id'], \n",
    "                         value_vars=['klm_default', 'klm_custom', 'klm_actual'], \n",
    "                         var_name='time_type', value_name='time_in_s')\n",
    "merged_df_long"
   ]
  },
  {
   "cell_type": "markdown",
   "id": "numerical-fishing",
   "metadata": {},
   "source": [
    "## Visualizations\n",
    "Comparison of the two estimates for each task with the actual task completion times"
   ]
  },
  {
   "cell_type": "code",
   "execution_count": 92,
   "id": "lesser-clothing",
   "metadata": {},
   "outputs": [
    {
     "data": {
      "text/html": [
       "<div>\n",
       "<style scoped>\n",
       "    .dataframe tbody tr th:only-of-type {\n",
       "        vertical-align: middle;\n",
       "    }\n",
       "\n",
       "    .dataframe tbody tr th {\n",
       "        vertical-align: top;\n",
       "    }\n",
       "\n",
       "    .dataframe thead th {\n",
       "        text-align: right;\n",
       "    }\n",
       "</style>\n",
       "<table border=\"1\" class=\"dataframe\">\n",
       "  <thead>\n",
       "    <tr style=\"text-align: right;\">\n",
       "      <th></th>\n",
       "      <th>task_id</th>\n",
       "      <th>time_type</th>\n",
       "      <th>time_in_s</th>\n",
       "    </tr>\n",
       "  </thead>\n",
       "  <tbody>\n",
       "    <tr>\n",
       "      <th>0</th>\n",
       "      <td>1</td>\n",
       "      <td>klm_default</td>\n",
       "      <td>66.3</td>\n",
       "    </tr>\n",
       "    <tr>\n",
       "      <th>4</th>\n",
       "      <td>1</td>\n",
       "      <td>klm_custom</td>\n",
       "      <td>0.0</td>\n",
       "    </tr>\n",
       "    <tr>\n",
       "      <th>8</th>\n",
       "      <td>1</td>\n",
       "      <td>klm_actual</td>\n",
       "      <td>54.2</td>\n",
       "    </tr>\n",
       "  </tbody>\n",
       "</table>\n",
       "</div>"
      ],
      "text/plain": [
       "   task_id    time_type  time_in_s\n",
       "0        1  klm_default       66.3\n",
       "4        1   klm_custom        0.0\n",
       "8        1   klm_actual       54.2"
      ]
     },
     "metadata": {},
     "output_type": "display_data"
    },
    {
     "data": {
      "text/html": [
       "<div>\n",
       "<style scoped>\n",
       "    .dataframe tbody tr th:only-of-type {\n",
       "        vertical-align: middle;\n",
       "    }\n",
       "\n",
       "    .dataframe tbody tr th {\n",
       "        vertical-align: top;\n",
       "    }\n",
       "\n",
       "    .dataframe thead th {\n",
       "        text-align: right;\n",
       "    }\n",
       "</style>\n",
       "<table border=\"1\" class=\"dataframe\">\n",
       "  <thead>\n",
       "    <tr style=\"text-align: right;\">\n",
       "      <th></th>\n",
       "      <th>task_id</th>\n",
       "      <th>time_type</th>\n",
       "      <th>time_in_s</th>\n",
       "    </tr>\n",
       "  </thead>\n",
       "  <tbody>\n",
       "    <tr>\n",
       "      <th>8</th>\n",
       "      <td>1</td>\n",
       "      <td>klm_actual</td>\n",
       "      <td>54.2</td>\n",
       "    </tr>\n",
       "    <tr>\n",
       "      <th>9</th>\n",
       "      <td>2</td>\n",
       "      <td>klm_actual</td>\n",
       "      <td>10.3</td>\n",
       "    </tr>\n",
       "    <tr>\n",
       "      <th>10</th>\n",
       "      <td>3</td>\n",
       "      <td>klm_actual</td>\n",
       "      <td>20.7</td>\n",
       "    </tr>\n",
       "    <tr>\n",
       "      <th>11</th>\n",
       "      <td>4</td>\n",
       "      <td>klm_actual</td>\n",
       "      <td>5.5</td>\n",
       "    </tr>\n",
       "  </tbody>\n",
       "</table>\n",
       "</div>"
      ],
      "text/plain": [
       "    task_id   time_type  time_in_s\n",
       "8         1  klm_actual       54.2\n",
       "9         2  klm_actual       10.3\n",
       "10        3  klm_actual       20.7\n",
       "11        4  klm_actual        5.5"
      ]
     },
     "metadata": {},
     "output_type": "display_data"
    },
    {
     "data": {
      "text/html": [
       "<div>\n",
       "<style scoped>\n",
       "    .dataframe tbody tr th:only-of-type {\n",
       "        vertical-align: middle;\n",
       "    }\n",
       "\n",
       "    .dataframe tbody tr th {\n",
       "        vertical-align: top;\n",
       "    }\n",
       "\n",
       "    .dataframe thead th {\n",
       "        text-align: right;\n",
       "    }\n",
       "</style>\n",
       "<table border=\"1\" class=\"dataframe\">\n",
       "  <thead>\n",
       "    <tr style=\"text-align: right;\">\n",
       "      <th></th>\n",
       "      <th>task_id</th>\n",
       "      <th>time_type</th>\n",
       "      <th>time_in_s</th>\n",
       "    </tr>\n",
       "  </thead>\n",
       "  <tbody>\n",
       "    <tr>\n",
       "      <th>8</th>\n",
       "      <td>1</td>\n",
       "      <td>klm_actual</td>\n",
       "      <td>54.2</td>\n",
       "    </tr>\n",
       "  </tbody>\n",
       "</table>\n",
       "</div>"
      ],
      "text/plain": [
       "   task_id   time_type  time_in_s\n",
       "8        1  klm_actual       54.2"
      ]
     },
     "execution_count": 92,
     "metadata": {},
     "output_type": "execute_result"
    }
   ],
   "source": [
    "# try useful splits\n",
    "\n",
    "task_1 = merged_df_long[merged_df_long['task_id'] == 1]\n",
    "display(task_1)\n",
    "\n",
    "time_actual = merged_df_long[merged_df_long['time_type'] == \"klm_actual\"]\n",
    "display(time_actual)\n",
    "\n",
    "task_1_times_actual = merged_df_long[(merged_df_long['task_id'] == 1) & (merged_df_long['time_type'] == \"klm_actual\")]\n",
    "task_1_times_actual"
   ]
  },
  {
   "cell_type": "code",
   "execution_count": 87,
   "id": "herbal-wisconsin",
   "metadata": {},
   "outputs": [
    {
     "data": {
      "text/plain": [
       "<AxesSubplot:xlabel='time_type', ylabel='time_in_s'>"
      ]
     },
     "execution_count": 87,
     "metadata": {},
     "output_type": "execute_result"
    },
    {
     "data": {
      "image/png": "[encoded data removed]",
      "text/plain": [
       "<Figure size 432x288 with 1 Axes>"
      ]
     },
     "metadata": {
      "needs_background": "light"
     },
     "output_type": "display_data"
    }
   ],
   "source": [
    "sns.boxplot(data=task_1, x=\"time_type\", y=\"time_in_s\")\n",
    "# sollte besser werden mit mehr daten..."
   ]
  },
  {
   "cell_type": "code",
   "execution_count": 88,
   "id": "consecutive-escape",
   "metadata": {},
   "outputs": [
    {
     "data": {
      "text/plain": [
       "<AxesSubplot:xlabel='time_type', ylabel='time_in_s'>"
      ]
     },
     "execution_count": 88,
     "metadata": {},
     "output_type": "execute_result"
    },
    {
     "data": {
      "image/png": "[encoded data removed]",
      "text/plain": [
       "<Figure size 432x288 with 1 Axes>"
      ]
     },
     "metadata": {
      "needs_background": "light"
     },
     "output_type": "display_data"
    }
   ],
   "source": [
    "sns.boxplot(data=time_actual, x=\"time_type\", y=\"time_in_s\")\n",
    "# todo nebendran für die anderen beiden types auch noch?  -> vergleich der 3 timetypes (per task and overall?)"
   ]
  },
  {
   "cell_type": "code",
   "execution_count": null,
   "id": "swiss-madrid",
   "metadata": {},
   "outputs": [],
   "source": []
  },
  {
   "cell_type": "code",
   "execution_count": 108,
   "id": "little-clarity",
   "metadata": {},
   "outputs": [
    {
     "data": {
      "text/plain": [
       "<seaborn.axisgrid.FacetGrid at 0x7f1fc5848790>"
      ]
     },
     "execution_count": 108,
     "metadata": {},
     "output_type": "execute_result"
    },
    {
     "data": {
      "image/png": "[encoded data removed]",
      "text/plain": [
       "<Figure size 455.875x360 with 1 Axes>"
      ]
     },
     "metadata": {
      "needs_background": "light"
     },
     "output_type": "display_data"
    }
   ],
   "source": [
    "sns.catplot(x=\"task_id\", y=\"time_in_s\", hue=\"time_type\", kind=\"swarm\", data=merged_df_long)"
   ]
  },
  {
   "cell_type": "code",
   "execution_count": 91,
   "id": "excessive-treasure",
   "metadata": {},
   "outputs": [
    {
     "data": {
      "text/plain": [
       "<AxesSubplot:xlabel='task_id', ylabel='time_in_s'>"
      ]
     },
     "execution_count": 91,
     "metadata": {},
     "output_type": "execute_result"
    },
    {
     "data": {
      "image/png": "[encoded data removed]",
      "text/plain": [
       "<Figure size 432x288 with 1 Axes>"
      ]
     },
     "metadata": {
      "needs_background": "light"
     },
     "output_type": "display_data"
    }
   ],
   "source": [
    "sns.scatterplot(x=\"task_id\", y=\"time_in_s\", hue=\"time_type\", data=merged_df_long)"
   ]
  },
  {
   "cell_type": "code",
   "execution_count": 120,
   "id": "capable-concentration",
   "metadata": {},
   "outputs": [
    {
     "data": {
      "text/plain": [
       "<AxesSubplot:xlabel='time_type', ylabel='time_in_s'>"
      ]
     },
     "execution_count": 120,
     "metadata": {},
     "output_type": "execute_result"
    },
    {
     "data": {
      "image/png": "[encoded data removed]",
      "text/plain": [
       "<Figure size 432x288 with 1 Axes>"
      ]
     },
     "metadata": {
      "needs_background": "light"
     },
     "output_type": "display_data"
    }
   ],
   "source": [
    "sns.scatterplot(x=\"time_type\", y=\"time_in_s\", hue=\"task_id\", data=merged_df_long)"
   ]
  },
  {
   "cell_type": "code",
   "execution_count": 119,
   "id": "sustained-particular",
   "metadata": {},
   "outputs": [
    {
     "data": {
      "text/plain": [
       "<seaborn.axisgrid.FacetGrid at 0x7f1fc50f21f0>"
      ]
     },
     "execution_count": 119,
     "metadata": {},
     "output_type": "execute_result"
    },
    {
     "data": {
      "image/png": "[encoded data removed]",
      "text/plain": [
       "<Figure size 455.875x360 with 1 Axes>"
      ]
     },
     "metadata": {
      "needs_background": "light"
     },
     "output_type": "display_data"
    }
   ],
   "source": [
    "plot = sns.catplot(x=\"task_id\", y=\"time_in_s\", hue=\"time_type\", kind=\"bar\", palette=\"dark\", \n",
    "            alpha=.6, data=merged_df_long)\n",
    "plot.set_axis_labels(\"\", \"Body mass (g)\")\n",
    "# plot.legend.set_title(\"Estimated time in seconds per task\")"
   ]
  },
  {
   "cell_type": "code",
   "execution_count": 110,
   "id": "static-raise",
   "metadata": {},
   "outputs": [
    {
     "data": {
      "text/plain": [
       "<seaborn.axisgrid.FacetGrid at 0x7f1fc577f880>"
      ]
     },
     "execution_count": 110,
     "metadata": {},
     "output_type": "execute_result"
    },
    {
     "data": {
      "image/png": "[encoded data removed]",
      "text/plain": [
       "<Figure size 1175.88x360 with 3 Axes>"
      ]
     },
     "metadata": {
      "needs_background": "light"
     },
     "output_type": "display_data"
    }
   ],
   "source": [
    "sns.relplot(\n",
    "    data=merged_df_long,\n",
    "    x=\"task_id\", y=\"time_in_s\", hue=\"time_type\",\n",
    "    col=\"time_type\", style=\"time_type\",\n",
    ")"
   ]
  },
  {
   "cell_type": "code",
   "execution_count": 129,
   "id": "selective-hierarchy",
   "metadata": {},
   "outputs": [
    {
     "data": {
      "text/plain": [
       "<seaborn.axisgrid.FacetGrid at 0x7f1fc4829940>"
      ]
     },
     "execution_count": 129,
     "metadata": {},
     "output_type": "execute_result"
    },
    {
     "data": {
      "image/png": "[encoded data removed]",
      "text/plain": [
       "<Figure size 1080x360 with 4 Axes>"
      ]
     },
     "metadata": {
      "needs_background": "light"
     },
     "output_type": "display_data"
    }
   ],
   "source": [
    "sns.catplot(data=merged_df_long,\n",
    "            x=\"time_type\", y=\"time_in_s\", hue=\"time_type\",\n",
    "            col=\"task_id\", aspect=.75,\n",
    "            kind=\"swarm\")"
   ]
  },
  {
   "cell_type": "code",
   "execution_count": 148,
   "id": "silver-header",
   "metadata": {},
   "outputs": [
    {
     "data": {
      "text/plain": [
       "<seaborn.axisgrid.FacetGrid at 0x7f1fc6298c10>"
      ]
     },
     "execution_count": 148,
     "metadata": {},
     "output_type": "execute_result"
    },
    {
     "data": {
      "image/png": "[encoded data removed]",
      "text/plain": [
       "<Figure size 1080x360 with 4 Axes>"
      ]
     },
     "metadata": {
      "needs_background": "light"
     },
     "output_type": "display_data"
    }
   ],
   "source": [
    "sns.catplot(data=merged_df_long,\n",
    "            x=\"time_type\", y=\"time_in_s\", hue=\"time_type\",\n",
    "            col=\"task_id\", aspect=.75, ci=None,\n",
    "            kind=\"bar\")"
   ]
  },
  {
   "cell_type": "code",
   "execution_count": 144,
   "id": "classical-theory",
   "metadata": {},
   "outputs": [
    {
     "data": {
      "image/png": "[encoded data removed]",
      "text/plain": [
       "<Figure size 756x108 with 4 Axes>"
      ]
     },
     "metadata": {
      "needs_background": "light"
     },
     "output_type": "display_data"
    }
   ],
   "source": [
    "grid = sns.FacetGrid(merged_df_long, col=\"task_id\", hue=\"time_type\", palette=\"tab20c\",\n",
    "                     col_wrap=7, height=1.5)\n",
    "\n",
    "# Draw a horizontal line to show the starting point\n",
    "# grid.map(plt.axhline, y=0, ls=\":\", c=\".5\")\n",
    "\n",
    "grid.map(plt.bar, \"time_type\", \"time_in_s\")\n",
    "\n",
    "# Adjust the tick positions and labels\n",
    "# grid.set(xticks=np.arange(5), yticks=[-3, 3], xlim=(-.5, 4.5), ylim=(-3.5, 3.5))\n",
    "\n",
    "# Adjust the arrangement of the plots\n",
    "grid.fig.tight_layout(w_pad=1)"
   ]
  },
  {
   "cell_type": "code",
   "execution_count": 116,
   "id": "cultural-handle",
   "metadata": {},
   "outputs": [
    {
     "data": {
      "text/plain": [
       "Text(0.5, 1.0, 'Errors made per participant and condition')"
      ]
     },
     "execution_count": 116,
     "metadata": {},
     "output_type": "execute_result"
    },
    {
     "data": {
      "image/png": "[encoded data removed]",
      "text/plain": [
       "<Figure size 432x288 with 1 Axes>"
      ]
     },
     "metadata": {
      "needs_background": "light"
     },
     "output_type": "display_data"
    }
   ],
   "source": [
    "ax = plt.axes()\n",
    "# sns.barplot(data=merged_df_long, x=\"time_type\", y=\"time_in_s\", hue=\"time_type\", ax = ax, dodge = True)\n",
    "sns.barplot(data=merged_df_long, x=\"time_type\", y=\"time_in_s\", hue=\"task_id\", ax = ax, dodge = True)\n",
    "ax.set_xlabel(\"participant id\")\n",
    "ax.set_ylabel(\"number of errors\")\n",
    "ax.set_title(\"Errors made per participant and condition\")"
   ]
  },
  {
   "cell_type": "code",
   "execution_count": 73,
   "id": "dirty-statement",
   "metadata": {},
   "outputs": [
    {
     "data": {
      "text/plain": [
       "Text(0.5, 1.0, 'Time needed per task')"
      ]
     },
     "execution_count": 73,
     "metadata": {},
     "output_type": "execute_result"
    },
    {
     "data": {
      "image/png": "[encoded data removed]",
      "text/plain": [
       "<Figure size 432x288 with 1 Axes>"
      ]
     },
     "metadata": {
      "needs_background": "light"
     },
     "output_type": "display_data"
    }
   ],
   "source": [
    "ax = plt.axes()\n",
    "sns.boxplot(data=merged_df_long, x=\"task_id\", y=\"time_in_s\")\n",
    "ax.set_xlabel(\"task id\")\n",
    "ax.set_ylabel(\"task time needed in seconds\")\n",
    "ax.set_title(\"Time needed per task\")"
   ]
  },
  {
   "cell_type": "code",
   "execution_count": 83,
   "id": "detected-sword",
   "metadata": {},
   "outputs": [
    {
     "data": {
      "text/plain": [
       "Text(0.5, 1.0, 'Time needed per klm value type')"
      ]
     },
     "execution_count": 83,
     "metadata": {},
     "output_type": "execute_result"
    },
    {
     "data": {
      "image/png": "[encoded data removed]",
      "text/plain": [
       "<Figure size 432x288 with 1 Axes>"
      ]
     },
     "metadata": {
      "needs_background": "light"
     },
     "output_type": "display_data"
    }
   ],
   "source": [
    "ax = plt.axes()\n",
    "sns.boxplot(data=merged_df_long, x=\"time_type\", y=\"time_in_s\")\n",
    "ax.set_xlabel(\"klm value type\")\n",
    "ax.set_ylabel(\"task time needed in seconds\")\n",
    "ax.set_title(\"Time needed per klm value type\")"
   ]
  },
  {
   "cell_type": "code",
   "execution_count": 114,
   "id": "driving-expert",
   "metadata": {},
   "outputs": [
    {
     "data": {
      "text/plain": [
       "<AxesSubplot:xlabel='task_id', ylabel='time_in_s'>"
      ]
     },
     "execution_count": 114,
     "metadata": {},
     "output_type": "execute_result"
    },
    {
     "data": {
      "image/png": "[encoded data removed]",
      "text/plain": [
       "<Figure size 432x288 with 1 Axes>"
      ]
     },
     "metadata": {
      "needs_background": "light"
     },
     "output_type": "display_data"
    }
   ],
   "source": [
    "sns.boxplot(x=\"task_id\", y=\"time_in_s\",\n",
    "            hue=\"time_type\", data=merged_df_long)"
   ]
  },
  {
   "cell_type": "code",
   "execution_count": null,
   "id": "threaded-somalia",
   "metadata": {},
   "outputs": [],
   "source": []
  },
  {
   "cell_type": "code",
   "execution_count": null,
   "id": "affecting-track",
   "metadata": {},
   "outputs": [],
   "source": []
  },
  {
   "cell_type": "code",
   "execution_count": null,
   "id": "administrative-white",
   "metadata": {},
   "outputs": [],
   "source": []
  },
  {
   "cell_type": "code",
   "execution_count": null,
   "id": "imperial-nothing",
   "metadata": {},
   "outputs": [],
   "source": []
  },
  {
   "cell_type": "code",
   "execution_count": null,
   "id": "compact-webster",
   "metadata": {},
   "outputs": [],
   "source": []
  }
 ],
 "metadata": {
  "kernelspec": {
   "display_name": "Python 3",
   "language": "python",
   "name": "python3"
  },
  "language_info": {
   "codemirror_mode": {
    "name": "ipython",
    "version": 3
   },
   "file_extension": ".py",
   "mimetype": "text/x-python",
   "name": "python",
   "nbconvert_exporter": "python",
   "pygments_lexer": "ipython3",
   "version": "3.9.2"
  }
 },
 "nbformat": 4,
 "nbformat_minor": 5
}
