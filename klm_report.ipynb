{
 "cells": [
  {
   "cell_type": "markdown",
   "id": "endangered-spray",
   "metadata": {},
   "source": [
    "# 6.4: KLM Report"
   ]
  },
  {
   "cell_type": "markdown",
   "id": "blond-founder",
   "metadata": {},
   "source": []
  },
  {
   "cell_type": "markdown",
   "id": "accepted-killer",
   "metadata": {},
   "source": [
    "## Part 1: Estimate task completion time for tasks"
   ]
  },
  {
   "cell_type": "markdown",
   "id": "essential-harvey",
   "metadata": {},
   "source": [
    "### Tasks:\n",
    "\n",
    "* Task 1: adding the numbers from 1 to 20 using only the mouse\n",
    "\n",
    "* Task 2: adding the numbers from 1 to 20 using only the keyboard\n",
    "\n",
    "* Task 3: calculating the result of (3² + 4²) ∗ 15.2 using only the mouse\n",
    "\n",
    "* Task 4: calculating the result of (3² + 4²) ∗ 15.2 using only the keyboard\n",
    "\n",
    "###### Assumptions:\n",
    "the calculator is already opened and focused and the user's hand is already on the correct input device for the first action (either mouse or keyboard)"
   ]
  },
  {
   "cell_type": "code",
   "execution_count": 14,
   "id": "imposed-helena",
   "metadata": {},
   "outputs": [],
   "source": [
    "# import the klm calculator\n",
    "from klm import calculate_klm"
   ]
  },
  {
   "cell_type": "code",
   "execution_count": 17,
   "id": "occasional-bleeding",
   "metadata": {},
   "outputs": [],
   "source": [
    "# specify the files with klm operators for each task\n",
    "\n",
    "file_task1 = \"./klm_tasks/task1.txt\"\n",
    "file_task2 = \"./klm_tasks/task2.txt\"\n",
    "file_task3 = \"./klm_tasks/task3.txt\"\n",
    "file_task4 = \"./klm_tasks/task4.txt\""
   ]
  },
  {
   "cell_type": "code",
   "execution_count": 18,
   "id": "generous-polymer",
   "metadata": {},
   "outputs": [
    {
     "name": "stdout",
     "output_type": "stream",
     "text": [
      "\n",
      "Predicted task completion time for task 1:\n",
      "Input operators were: PBBPBB16P32BPBBPBBPBB30P60B\n",
      "Predicted task completion time for the given operators using custom klm values: 0.000 seconds.\n",
      "Predicted task completion time for the given operators using default klm values: 66.300 seconds.\n",
      "\n",
      "Predicted task completion time for task 2:\n",
      "Input operators were: 18K27KKKKK\n",
      "Predicted task completion time for the given operators using custom klm values: 0.000 seconds.\n",
      "Predicted task completion time for the given operators using default klm values: 9.800 seconds.\n",
      "\n",
      "Predicted task completion time for task 3:\n",
      "Input operators were: PBB7P14BPBB5P10BPBB\n",
      "Predicted task completion time for the given operators using custom klm values: 0.000 seconds.\n",
      "Predicted task completion time for the given operators using default klm values: 19.500 seconds.\n",
      "\n",
      "Predicted task completion time for task 4:\n",
      "Input operators were: 2K4KK4K2K6K2K\n",
      "Predicted task completion time for the given operators using custom klm values: 0.000 seconds.\n",
      "Predicted task completion time for the given operators using default klm values: 4.200 seconds.\n"
     ]
    }
   ],
   "source": [
    "# and calculate their task completion times with the imported function\n",
    "for task_number, task_file in enumerate([file_task1, file_task2, file_task3, file_task4], start=1):\n",
    "    print(f\"\\nPredicted task completion time for task {task_number}:\")\n",
    "    calculate_klm(task_file)"
   ]
  },
  {
   "cell_type": "markdown",
   "id": "textile-minister",
   "metadata": {},
   "source": [
    "## Part 2: KLM Experiment"
   ]
  },
  {
   "cell_type": "code",
   "execution_count": null,
   "id": "solar-norfolk",
   "metadata": {},
   "outputs": [],
   "source": []
  },
  {
   "cell_type": "code",
   "execution_count": null,
   "id": "aging-hebrew",
   "metadata": {},
   "outputs": [],
   "source": []
  },
  {
   "cell_type": "code",
   "execution_count": null,
   "id": "similar-oasis",
   "metadata": {},
   "outputs": [],
   "source": []
  },
  {
   "cell_type": "code",
   "execution_count": null,
   "id": "lucky-shift",
   "metadata": {},
   "outputs": [],
   "source": []
  },
  {
   "cell_type": "code",
   "execution_count": null,
   "id": "arctic-development",
   "metadata": {},
   "outputs": [],
   "source": []
  },
  {
   "cell_type": "code",
   "execution_count": null,
   "id": "crude-ferry",
   "metadata": {},
   "outputs": [],
   "source": []
  },
  {
   "cell_type": "code",
   "execution_count": null,
   "id": "departmental-primary",
   "metadata": {},
   "outputs": [],
   "source": []
  },
  {
   "cell_type": "code",
   "execution_count": null,
   "id": "little-clarity",
   "metadata": {},
   "outputs": [],
   "source": []
  },
  {
   "cell_type": "code",
   "execution_count": null,
   "id": "sustained-particular",
   "metadata": {},
   "outputs": [],
   "source": []
  },
  {
   "cell_type": "code",
   "execution_count": null,
   "id": "civilian-atlas",
   "metadata": {},
   "outputs": [],
   "source": []
  }
 ],
 "metadata": {
  "kernelspec": {
   "display_name": "Python 3",
   "language": "python",
   "name": "python3"
  },
  "language_info": {
   "codemirror_mode": {
    "name": "ipython",
    "version": 3
   },
   "file_extension": ".py",
   "mimetype": "text/x-python",
   "name": "python",
   "nbconvert_exporter": "python",
   "pygments_lexer": "ipython3",
   "version": "3.9.2"
  }
 },
 "nbformat": 4,
 "nbformat_minor": 5
}
